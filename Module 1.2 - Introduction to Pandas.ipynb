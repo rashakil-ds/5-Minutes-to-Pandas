{
 "cells": [
  {
   "cell_type": "markdown",
   "id": "c969f88b",
   "metadata": {},
   "source": [
    "# Contents"
   ]
  },
  {
   "cell_type": "markdown",
   "id": "86eeddb4",
   "metadata": {},
   "source": [
    "1. Reading data as excel file and csv"
   ]
  },
  {
   "cell_type": "markdown",
   "id": "266be08e",
   "metadata": {},
   "source": [
    "# Reading dataset from GitHub using requests"
   ]
  },
  {
   "cell_type": "code",
   "execution_count": 1,
   "id": "b1b123b6",
   "metadata": {},
   "outputs": [],
   "source": [
    "# !pip install requests"
   ]
  },
  {
   "cell_type": "code",
   "execution_count": 2,
   "id": "0a9e264d",
   "metadata": {},
   "outputs": [],
   "source": [
    "import pandas as pd\n",
    "import requests\n",
    "from io import StringIO"
   ]
  },
  {
   "cell_type": "markdown",
   "id": "5e19fd11",
   "metadata": {},
   "source": [
    "Here, the requests.get() function is used to send an HTTP GET request to the specified URL. This function returns a Response object, and you've assigned it to the variable response. This object contains the server's response to the request."
   ]
  },
  {
   "cell_type": "code",
   "execution_count": 3,
   "id": "1a926e63",
   "metadata": {},
   "outputs": [],
   "source": [
    "url = 'https://github.com/rashakil-ds/5-Minutes-to-Pandas/raw/main/bike.csv'\n",
    "response = requests.get(url)"
   ]
  },
  {
   "cell_type": "markdown",
   "id": "9f6cdf06",
   "metadata": {},
   "source": [
    "The StringIO class from the io module is used to create a file-like object from the text content of the response. response.text contains the content of the CSV file as a string, and StringIO helps to treat this string as a file-like object that pd.read_csv can read."
   ]
  },
  {
   "cell_type": "code",
   "execution_count": 4,
   "id": "421509dd",
   "metadata": {},
   "outputs": [],
   "source": [
    "csv_content = StringIO(response.text)"
   ]
  },
  {
   "cell_type": "code",
   "execution_count": 5,
   "id": "488da3c6",
   "metadata": {},
   "outputs": [
    {
     "data": {
      "text/html": [
       "<div>\n",
       "<style scoped>\n",
       "    .dataframe tbody tr th:only-of-type {\n",
       "        vertical-align: middle;\n",
       "    }\n",
       "\n",
       "    .dataframe tbody tr th {\n",
       "        vertical-align: top;\n",
       "    }\n",
       "\n",
       "    .dataframe thead th {\n",
       "        text-align: right;\n",
       "    }\n",
       "</style>\n",
       "<table border=\"1\" class=\"dataframe\">\n",
       "  <thead>\n",
       "    <tr style=\"text-align: right;\">\n",
       "      <th></th>\n",
       "      <th>instant</th>\n",
       "      <th>dteday</th>\n",
       "      <th>season</th>\n",
       "      <th>yr</th>\n",
       "      <th>mnth</th>\n",
       "      <th>hr</th>\n",
       "      <th>holiday</th>\n",
       "      <th>weekday</th>\n",
       "      <th>workingday</th>\n",
       "      <th>weathersit</th>\n",
       "      <th>temp</th>\n",
       "      <th>atemp</th>\n",
       "      <th>hum</th>\n",
       "      <th>windspeed</th>\n",
       "      <th>cnt</th>\n",
       "    </tr>\n",
       "  </thead>\n",
       "  <tbody>\n",
       "    <tr>\n",
       "      <th>0</th>\n",
       "      <td>1</td>\n",
       "      <td>1/1/2011</td>\n",
       "      <td>1</td>\n",
       "      <td>0</td>\n",
       "      <td>1</td>\n",
       "      <td>0</td>\n",
       "      <td>0</td>\n",
       "      <td>6</td>\n",
       "      <td>0</td>\n",
       "      <td>1</td>\n",
       "      <td>0.24</td>\n",
       "      <td>0.2879</td>\n",
       "      <td>0.81</td>\n",
       "      <td>0.0</td>\n",
       "      <td>16</td>\n",
       "    </tr>\n",
       "    <tr>\n",
       "      <th>1</th>\n",
       "      <td>2</td>\n",
       "      <td>1/1/2011</td>\n",
       "      <td>1</td>\n",
       "      <td>0</td>\n",
       "      <td>1</td>\n",
       "      <td>1</td>\n",
       "      <td>0</td>\n",
       "      <td>6</td>\n",
       "      <td>0</td>\n",
       "      <td>1</td>\n",
       "      <td>0.22</td>\n",
       "      <td>0.2727</td>\n",
       "      <td>0.80</td>\n",
       "      <td>0.0</td>\n",
       "      <td>40</td>\n",
       "    </tr>\n",
       "    <tr>\n",
       "      <th>2</th>\n",
       "      <td>3</td>\n",
       "      <td>1/1/2011</td>\n",
       "      <td>1</td>\n",
       "      <td>0</td>\n",
       "      <td>1</td>\n",
       "      <td>2</td>\n",
       "      <td>0</td>\n",
       "      <td>6</td>\n",
       "      <td>0</td>\n",
       "      <td>1</td>\n",
       "      <td>0.22</td>\n",
       "      <td>0.2727</td>\n",
       "      <td>0.80</td>\n",
       "      <td>0.0</td>\n",
       "      <td>32</td>\n",
       "    </tr>\n",
       "    <tr>\n",
       "      <th>3</th>\n",
       "      <td>4</td>\n",
       "      <td>1/1/2011</td>\n",
       "      <td>1</td>\n",
       "      <td>0</td>\n",
       "      <td>1</td>\n",
       "      <td>3</td>\n",
       "      <td>0</td>\n",
       "      <td>6</td>\n",
       "      <td>0</td>\n",
       "      <td>1</td>\n",
       "      <td>0.24</td>\n",
       "      <td>0.2879</td>\n",
       "      <td>0.75</td>\n",
       "      <td>0.0</td>\n",
       "      <td>13</td>\n",
       "    </tr>\n",
       "    <tr>\n",
       "      <th>4</th>\n",
       "      <td>5</td>\n",
       "      <td>1/1/2011</td>\n",
       "      <td>1</td>\n",
       "      <td>0</td>\n",
       "      <td>1</td>\n",
       "      <td>4</td>\n",
       "      <td>0</td>\n",
       "      <td>6</td>\n",
       "      <td>0</td>\n",
       "      <td>1</td>\n",
       "      <td>0.24</td>\n",
       "      <td>0.2879</td>\n",
       "      <td>0.75</td>\n",
       "      <td>0.0</td>\n",
       "      <td>1</td>\n",
       "    </tr>\n",
       "  </tbody>\n",
       "</table>\n",
       "</div>"
      ],
      "text/plain": [
       "   instant    dteday  season  yr  mnth  hr  holiday  weekday  workingday  \\\n",
       "0        1  1/1/2011       1   0     1   0        0        6           0   \n",
       "1        2  1/1/2011       1   0     1   1        0        6           0   \n",
       "2        3  1/1/2011       1   0     1   2        0        6           0   \n",
       "3        4  1/1/2011       1   0     1   3        0        6           0   \n",
       "4        5  1/1/2011       1   0     1   4        0        6           0   \n",
       "\n",
       "   weathersit  temp   atemp   hum  windspeed  cnt  \n",
       "0           1  0.24  0.2879  0.81        0.0   16  \n",
       "1           1  0.22  0.2727  0.80        0.0   40  \n",
       "2           1  0.22  0.2727  0.80        0.0   32  \n",
       "3           1  0.24  0.2879  0.75        0.0   13  \n",
       "4           1  0.24  0.2879  0.75        0.0    1  "
      ]
     },
     "execution_count": 5,
     "metadata": {},
     "output_type": "execute_result"
    }
   ],
   "source": [
    "df = pd.read_csv(csv_content)\n",
    "df.head()"
   ]
  },
  {
   "cell_type": "code",
   "execution_count": 6,
   "id": "3f161fb3",
   "metadata": {},
   "outputs": [
    {
     "name": "stdout",
     "output_type": "stream",
     "text": [
      "<class 'pandas.core.frame.DataFrame'>\n",
      "RangeIndex: 17379 entries, 0 to 17378\n",
      "Data columns (total 15 columns):\n",
      " #   Column      Non-Null Count  Dtype  \n",
      "---  ------      --------------  -----  \n",
      " 0   instant     17379 non-null  int64  \n",
      " 1   dteday      17379 non-null  object \n",
      " 2   season      17379 non-null  int64  \n",
      " 3   yr          17379 non-null  int64  \n",
      " 4   mnth        17379 non-null  int64  \n",
      " 5   hr          17379 non-null  int64  \n",
      " 6   holiday     17379 non-null  int64  \n",
      " 7   weekday     17379 non-null  int64  \n",
      " 8   workingday  17379 non-null  int64  \n",
      " 9   weathersit  17379 non-null  int64  \n",
      " 10  temp        17379 non-null  float64\n",
      " 11  atemp       17379 non-null  float64\n",
      " 12  hum         17379 non-null  float64\n",
      " 13  windspeed   17379 non-null  float64\n",
      " 14  cnt         17379 non-null  int64  \n",
      "dtypes: float64(4), int64(10), object(1)\n",
      "memory usage: 2.0+ MB\n"
     ]
    }
   ],
   "source": [
    "df.info()"
   ]
  },
  {
   "cell_type": "code",
   "execution_count": 7,
   "id": "680b0531",
   "metadata": {},
   "outputs": [
    {
     "data": {
      "text/plain": [
       "(17379, 15)"
      ]
     },
     "execution_count": 7,
     "metadata": {},
     "output_type": "execute_result"
    }
   ],
   "source": [
    "df.shape"
   ]
  },
  {
   "cell_type": "markdown",
   "id": "3ba0f9e1",
   "metadata": {},
   "source": [
    "# Reading dataset from GitHub using web get"
   ]
  },
  {
   "cell_type": "code",
   "execution_count": 8,
   "id": "7ef9d705",
   "metadata": {},
   "outputs": [],
   "source": [
    "#!pip install wget"
   ]
  },
  {
   "cell_type": "code",
   "execution_count": 9,
   "id": "7c7bde07",
   "metadata": {},
   "outputs": [
    {
     "name": "stdout",
     "output_type": "stream",
     "text": [
      "\r",
      "  0% [                                                                          ]       0 / 1032184\r",
      "  0% [                                                                          ]    8192 / 1032184\r",
      "  1% [.                                                                         ]   16384 / 1032184\r",
      "  2% [.                                                                         ]   24576 / 1032184\r",
      "  3% [..                                                                        ]   32768 / 1032184\r",
      "  3% [..                                                                        ]   40960 / 1032184\r",
      "  4% [...                                                                       ]   49152 / 1032184\r",
      "  5% [....                                                                      ]   57344 / 1032184\r",
      "  6% [....                                                                      ]   65536 / 1032184\r",
      "  7% [.....                                                                     ]   73728 / 1032184\r",
      "  7% [.....                                                                     ]   81920 / 1032184\r",
      "  8% [......                                                                    ]   90112 / 1032184\r",
      "  9% [.......                                                                   ]   98304 / 1032184\r",
      " 10% [.......                                                                   ]  106496 / 1032184\r",
      " 11% [........                                                                  ]  114688 / 1032184\r",
      " 11% [........                                                                  ]  122880 / 1032184\r",
      " 12% [.........                                                                 ]  131072 / 1032184\r",
      " 13% [.........                                                                 ]  139264 / 1032184\r",
      " 14% [..........                                                                ]  147456 / 1032184\r",
      " 15% [...........                                                               ]  155648 / 1032184\r",
      " 15% [...........                                                               ]  163840 / 1032184\r",
      " 16% [............                                                              ]  172032 / 1032184\r",
      " 17% [............                                                              ]  180224 / 1032184\r",
      " 18% [.............                                                             ]  188416 / 1032184\r",
      " 19% [..............                                                            ]  196608 / 1032184\r",
      " 19% [..............                                                            ]  204800 / 1032184\r",
      " 20% [...............                                                           ]  212992 / 1032184\r",
      " 21% [...............                                                           ]  221184 / 1032184\r",
      " 22% [................                                                          ]  229376 / 1032184\r",
      " 23% [.................                                                         ]  237568 / 1032184\r",
      " 23% [.................                                                         ]  245760 / 1032184\r",
      " 24% [..................                                                        ]  253952 / 1032184\r",
      " 25% [..................                                                        ]  262144 / 1032184\r",
      " 26% [...................                                                       ]  270336 / 1032184\r",
      " 26% [...................                                                       ]  278528 / 1032184\r",
      " 27% [....................                                                      ]  286720 / 1032184\r",
      " 28% [.....................                                                     ]  294912 / 1032184\r",
      " 29% [.....................                                                     ]  303104 / 1032184\r",
      " 30% [......................                                                    ]  311296 / 1032184\r",
      " 30% [......................                                                    ]  319488 / 1032184\r",
      " 31% [.......................                                                   ]  327680 / 1032184\r",
      " 32% [........................                                                  ]  335872 / 1032184\r",
      " 33% [........................                                                  ]  344064 / 1032184\r",
      " 34% [.........................                                                 ]  352256 / 1032184\r",
      " 34% [.........................                                                 ]  360448 / 1032184\r",
      " 35% [..........................                                                ]  368640 / 1032184\r",
      " 36% [...........................                                               ]  376832 / 1032184\r",
      " 37% [...........................                                               ]  385024 / 1032184\r",
      " 38% [............................                                              ]  393216 / 1032184\r",
      " 38% [............................                                              ]  401408 / 1032184\r",
      " 39% [.............................                                             ]  409600 / 1032184\r",
      " 40% [.............................                                             ]  417792 / 1032184\r",
      " 41% [..............................                                            ]  425984 / 1032184\r",
      " 42% [...............................                                           ]  434176 / 1032184\r",
      " 42% [...............................                                           ]  442368 / 1032184\r",
      " 43% [................................                                          ]  450560 / 1032184\r",
      " 44% [................................                                          ]  458752 / 1032184\r",
      " 45% [.................................                                         ]  466944 / 1032184\r",
      " 46% [..................................                                        ]  475136 / 1032184\r",
      " 46% [..................................                                        ]  483328 / 1032184\r",
      " 47% [...................................                                       ]  491520 / 1032184\r",
      " 48% [...................................                                       ]  499712 / 1032184\r",
      " 49% [....................................                                      ]  507904 / 1032184\r",
      " 50% [.....................................                                     ]  516096 / 1032184\r",
      " 50% [.....................................                                     ]  524288 / 1032184\r",
      " 51% [......................................                                    ]  532480 / 1032184\r",
      " 52% [......................................                                    ]  540672 / 1032184\r",
      " 53% [.......................................                                   ]  548864 / 1032184\r",
      " 53% [.......................................                                   ]  557056 / 1032184\r",
      " 54% [........................................                                  ]  565248 / 1032184\r",
      " 55% [.........................................                                 ]  573440 / 1032184\r",
      " 56% [.........................................                                 ]  581632 / 1032184\r",
      " 57% [..........................................                                ]  589824 / 1032184\r",
      " 57% [..........................................                                ]  598016 / 1032184\r",
      " 58% [...........................................                               ]  606208 / 1032184\r",
      " 59% [............................................                              ]  614400 / 1032184\r",
      " 60% [............................................                              ]  622592 / 1032184\r",
      " 61% [.............................................                             ]  630784 / 1032184\r",
      " 61% [.............................................                             ]  638976 / 1032184\r",
      " 62% [..............................................                            ]  647168 / 1032184\r",
      " 63% [..............................................                            ]  655360 / 1032184\r",
      " 64% [...............................................                           ]  663552 / 1032184\r",
      " 65% [................................................                          ]  671744 / 1032184\r",
      " 65% [................................................                          ]  679936 / 1032184\r",
      " 66% [.................................................                         ]  688128 / 1032184\r",
      " 67% [.................................................                         ]  696320 / 1032184\r",
      " 68% [..................................................                        ]  704512 / 1032184\r",
      " 69% [...................................................                       ]  712704 / 1032184\r",
      " 69% [...................................................                       ]  720896 / 1032184\r",
      " 70% [....................................................                      ]  729088 / 1032184\r",
      " 71% [....................................................                      ]  737280 / 1032184\r",
      " 72% [.....................................................                     ]  745472 / 1032184\r",
      " 73% [......................................................                    ]  753664 / 1032184\r",
      " 73% [......................................................                    ]  761856 / 1032184"
     ]
    },
    {
     "name": "stdout",
     "output_type": "stream",
     "text": [
      "\r",
      " 74% [.......................................................                   ]  770048 / 1032184\r",
      " 75% [.......................................................                   ]  778240 / 1032184\r",
      " 76% [........................................................                  ]  786432 / 1032184\r",
      " 76% [........................................................                  ]  794624 / 1032184\r",
      " 77% [.........................................................                 ]  802816 / 1032184\r",
      " 78% [..........................................................                ]  811008 / 1032184\r",
      " 79% [..........................................................                ]  819200 / 1032184\r",
      " 80% [...........................................................               ]  827392 / 1032184\r",
      " 80% [...........................................................               ]  835584 / 1032184\r",
      " 81% [............................................................              ]  843776 / 1032184\r",
      " 82% [.............................................................             ]  851968 / 1032184\r",
      " 83% [.............................................................             ]  860160 / 1032184\r",
      " 84% [..............................................................            ]  868352 / 1032184\r",
      " 84% [..............................................................            ]  876544 / 1032184\r",
      " 85% [...............................................................           ]  884736 / 1032184\r",
      " 86% [................................................................          ]  892928 / 1032184\r",
      " 87% [................................................................          ]  901120 / 1032184\r",
      " 88% [.................................................................         ]  909312 / 1032184\r",
      " 88% [.................................................................         ]  917504 / 1032184\r",
      " 89% [..................................................................        ]  925696 / 1032184\r",
      " 90% [..................................................................        ]  933888 / 1032184\r",
      " 91% [...................................................................       ]  942080 / 1032184\r",
      " 92% [....................................................................      ]  950272 / 1032184\r",
      " 92% [....................................................................      ]  958464 / 1032184\r",
      " 93% [.....................................................................     ]  966656 / 1032184\r",
      " 94% [.....................................................................     ]  974848 / 1032184\r",
      " 95% [......................................................................    ]  983040 / 1032184\r",
      " 96% [.......................................................................   ]  991232 / 1032184\r",
      " 96% [.......................................................................   ]  999424 / 1032184\r",
      " 97% [........................................................................  ] 1007616 / 1032184\r",
      " 98% [........................................................................  ] 1015808 / 1032184\r",
      " 99% [......................................................................... ] 1024000 / 1032184\r",
      "100% [..........................................................................] 1032184 / 1032184"
     ]
    }
   ],
   "source": [
    "import wget\n",
    "\n",
    "# Replace the URL with the raw URL of your CSV file on GitHub\n",
    "url = 'https://raw.githubusercontent.com/rashakil-ds/5-Minutes-to-Pandas/main/bike.csv'\n",
    "\n",
    "# Use wget to download the CSV file\n",
    "file_path = wget.download(url)"
   ]
  },
  {
   "cell_type": "code",
   "execution_count": 10,
   "id": "5dff0e56",
   "metadata": {},
   "outputs": [],
   "source": [
    "# Use pd.read_csv to read the CSV data into a Pandas DataFrame\n",
    "df = pd.read_csv(file_path)"
   ]
  },
  {
   "cell_type": "code",
   "execution_count": 11,
   "id": "5f0cafc5",
   "metadata": {},
   "outputs": [
    {
     "data": {
      "text/html": [
       "<div>\n",
       "<style scoped>\n",
       "    .dataframe tbody tr th:only-of-type {\n",
       "        vertical-align: middle;\n",
       "    }\n",
       "\n",
       "    .dataframe tbody tr th {\n",
       "        vertical-align: top;\n",
       "    }\n",
       "\n",
       "    .dataframe thead th {\n",
       "        text-align: right;\n",
       "    }\n",
       "</style>\n",
       "<table border=\"1\" class=\"dataframe\">\n",
       "  <thead>\n",
       "    <tr style=\"text-align: right;\">\n",
       "      <th></th>\n",
       "      <th>instant</th>\n",
       "      <th>dteday</th>\n",
       "      <th>season</th>\n",
       "      <th>yr</th>\n",
       "      <th>mnth</th>\n",
       "      <th>hr</th>\n",
       "      <th>holiday</th>\n",
       "      <th>weekday</th>\n",
       "      <th>workingday</th>\n",
       "      <th>weathersit</th>\n",
       "      <th>temp</th>\n",
       "      <th>atemp</th>\n",
       "      <th>hum</th>\n",
       "      <th>windspeed</th>\n",
       "      <th>cnt</th>\n",
       "    </tr>\n",
       "  </thead>\n",
       "  <tbody>\n",
       "    <tr>\n",
       "      <th>0</th>\n",
       "      <td>1</td>\n",
       "      <td>1/1/2011</td>\n",
       "      <td>1</td>\n",
       "      <td>0</td>\n",
       "      <td>1</td>\n",
       "      <td>0</td>\n",
       "      <td>0</td>\n",
       "      <td>6</td>\n",
       "      <td>0</td>\n",
       "      <td>1</td>\n",
       "      <td>0.24</td>\n",
       "      <td>0.2879</td>\n",
       "      <td>0.81</td>\n",
       "      <td>0.0</td>\n",
       "      <td>16</td>\n",
       "    </tr>\n",
       "    <tr>\n",
       "      <th>1</th>\n",
       "      <td>2</td>\n",
       "      <td>1/1/2011</td>\n",
       "      <td>1</td>\n",
       "      <td>0</td>\n",
       "      <td>1</td>\n",
       "      <td>1</td>\n",
       "      <td>0</td>\n",
       "      <td>6</td>\n",
       "      <td>0</td>\n",
       "      <td>1</td>\n",
       "      <td>0.22</td>\n",
       "      <td>0.2727</td>\n",
       "      <td>0.80</td>\n",
       "      <td>0.0</td>\n",
       "      <td>40</td>\n",
       "    </tr>\n",
       "    <tr>\n",
       "      <th>2</th>\n",
       "      <td>3</td>\n",
       "      <td>1/1/2011</td>\n",
       "      <td>1</td>\n",
       "      <td>0</td>\n",
       "      <td>1</td>\n",
       "      <td>2</td>\n",
       "      <td>0</td>\n",
       "      <td>6</td>\n",
       "      <td>0</td>\n",
       "      <td>1</td>\n",
       "      <td>0.22</td>\n",
       "      <td>0.2727</td>\n",
       "      <td>0.80</td>\n",
       "      <td>0.0</td>\n",
       "      <td>32</td>\n",
       "    </tr>\n",
       "    <tr>\n",
       "      <th>3</th>\n",
       "      <td>4</td>\n",
       "      <td>1/1/2011</td>\n",
       "      <td>1</td>\n",
       "      <td>0</td>\n",
       "      <td>1</td>\n",
       "      <td>3</td>\n",
       "      <td>0</td>\n",
       "      <td>6</td>\n",
       "      <td>0</td>\n",
       "      <td>1</td>\n",
       "      <td>0.24</td>\n",
       "      <td>0.2879</td>\n",
       "      <td>0.75</td>\n",
       "      <td>0.0</td>\n",
       "      <td>13</td>\n",
       "    </tr>\n",
       "    <tr>\n",
       "      <th>4</th>\n",
       "      <td>5</td>\n",
       "      <td>1/1/2011</td>\n",
       "      <td>1</td>\n",
       "      <td>0</td>\n",
       "      <td>1</td>\n",
       "      <td>4</td>\n",
       "      <td>0</td>\n",
       "      <td>6</td>\n",
       "      <td>0</td>\n",
       "      <td>1</td>\n",
       "      <td>0.24</td>\n",
       "      <td>0.2879</td>\n",
       "      <td>0.75</td>\n",
       "      <td>0.0</td>\n",
       "      <td>1</td>\n",
       "    </tr>\n",
       "  </tbody>\n",
       "</table>\n",
       "</div>"
      ],
      "text/plain": [
       "   instant    dteday  season  yr  mnth  hr  holiday  weekday  workingday  \\\n",
       "0        1  1/1/2011       1   0     1   0        0        6           0   \n",
       "1        2  1/1/2011       1   0     1   1        0        6           0   \n",
       "2        3  1/1/2011       1   0     1   2        0        6           0   \n",
       "3        4  1/1/2011       1   0     1   3        0        6           0   \n",
       "4        5  1/1/2011       1   0     1   4        0        6           0   \n",
       "\n",
       "   weathersit  temp   atemp   hum  windspeed  cnt  \n",
       "0           1  0.24  0.2879  0.81        0.0   16  \n",
       "1           1  0.22  0.2727  0.80        0.0   40  \n",
       "2           1  0.22  0.2727  0.80        0.0   32  \n",
       "3           1  0.24  0.2879  0.75        0.0   13  \n",
       "4           1  0.24  0.2879  0.75        0.0    1  "
      ]
     },
     "execution_count": 11,
     "metadata": {},
     "output_type": "execute_result"
    }
   ],
   "source": [
    "df.head()"
   ]
  },
  {
   "cell_type": "code",
   "execution_count": 12,
   "id": "eb09a054",
   "metadata": {},
   "outputs": [
    {
     "data": {
      "text/plain": [
       "(17379, 15)"
      ]
     },
     "execution_count": 12,
     "metadata": {},
     "output_type": "execute_result"
    }
   ],
   "source": [
    "df.shape"
   ]
  },
  {
   "cell_type": "markdown",
   "id": "4682f0c5",
   "metadata": {},
   "source": [
    "# Reading dataset from GitHub using direct raw data URL"
   ]
  },
  {
   "cell_type": "code",
   "execution_count": 13,
   "id": "15139c5f",
   "metadata": {},
   "outputs": [
    {
     "data": {
      "text/html": [
       "<div>\n",
       "<style scoped>\n",
       "    .dataframe tbody tr th:only-of-type {\n",
       "        vertical-align: middle;\n",
       "    }\n",
       "\n",
       "    .dataframe tbody tr th {\n",
       "        vertical-align: top;\n",
       "    }\n",
       "\n",
       "    .dataframe thead th {\n",
       "        text-align: right;\n",
       "    }\n",
       "</style>\n",
       "<table border=\"1\" class=\"dataframe\">\n",
       "  <thead>\n",
       "    <tr style=\"text-align: right;\">\n",
       "      <th></th>\n",
       "      <th>instant</th>\n",
       "      <th>dteday</th>\n",
       "      <th>season</th>\n",
       "      <th>yr</th>\n",
       "      <th>mnth</th>\n",
       "      <th>hr</th>\n",
       "      <th>holiday</th>\n",
       "      <th>weekday</th>\n",
       "      <th>workingday</th>\n",
       "      <th>weathersit</th>\n",
       "      <th>temp</th>\n",
       "      <th>atemp</th>\n",
       "      <th>hum</th>\n",
       "      <th>windspeed</th>\n",
       "      <th>cnt</th>\n",
       "    </tr>\n",
       "  </thead>\n",
       "  <tbody>\n",
       "    <tr>\n",
       "      <th>0</th>\n",
       "      <td>1</td>\n",
       "      <td>1/1/2011</td>\n",
       "      <td>1</td>\n",
       "      <td>0</td>\n",
       "      <td>1</td>\n",
       "      <td>0</td>\n",
       "      <td>0</td>\n",
       "      <td>6</td>\n",
       "      <td>0</td>\n",
       "      <td>1</td>\n",
       "      <td>0.24</td>\n",
       "      <td>0.2879</td>\n",
       "      <td>0.81</td>\n",
       "      <td>0.0</td>\n",
       "      <td>16</td>\n",
       "    </tr>\n",
       "    <tr>\n",
       "      <th>1</th>\n",
       "      <td>2</td>\n",
       "      <td>1/1/2011</td>\n",
       "      <td>1</td>\n",
       "      <td>0</td>\n",
       "      <td>1</td>\n",
       "      <td>1</td>\n",
       "      <td>0</td>\n",
       "      <td>6</td>\n",
       "      <td>0</td>\n",
       "      <td>1</td>\n",
       "      <td>0.22</td>\n",
       "      <td>0.2727</td>\n",
       "      <td>0.80</td>\n",
       "      <td>0.0</td>\n",
       "      <td>40</td>\n",
       "    </tr>\n",
       "    <tr>\n",
       "      <th>2</th>\n",
       "      <td>3</td>\n",
       "      <td>1/1/2011</td>\n",
       "      <td>1</td>\n",
       "      <td>0</td>\n",
       "      <td>1</td>\n",
       "      <td>2</td>\n",
       "      <td>0</td>\n",
       "      <td>6</td>\n",
       "      <td>0</td>\n",
       "      <td>1</td>\n",
       "      <td>0.22</td>\n",
       "      <td>0.2727</td>\n",
       "      <td>0.80</td>\n",
       "      <td>0.0</td>\n",
       "      <td>32</td>\n",
       "    </tr>\n",
       "    <tr>\n",
       "      <th>3</th>\n",
       "      <td>4</td>\n",
       "      <td>1/1/2011</td>\n",
       "      <td>1</td>\n",
       "      <td>0</td>\n",
       "      <td>1</td>\n",
       "      <td>3</td>\n",
       "      <td>0</td>\n",
       "      <td>6</td>\n",
       "      <td>0</td>\n",
       "      <td>1</td>\n",
       "      <td>0.24</td>\n",
       "      <td>0.2879</td>\n",
       "      <td>0.75</td>\n",
       "      <td>0.0</td>\n",
       "      <td>13</td>\n",
       "    </tr>\n",
       "    <tr>\n",
       "      <th>4</th>\n",
       "      <td>5</td>\n",
       "      <td>1/1/2011</td>\n",
       "      <td>1</td>\n",
       "      <td>0</td>\n",
       "      <td>1</td>\n",
       "      <td>4</td>\n",
       "      <td>0</td>\n",
       "      <td>6</td>\n",
       "      <td>0</td>\n",
       "      <td>1</td>\n",
       "      <td>0.24</td>\n",
       "      <td>0.2879</td>\n",
       "      <td>0.75</td>\n",
       "      <td>0.0</td>\n",
       "      <td>1</td>\n",
       "    </tr>\n",
       "  </tbody>\n",
       "</table>\n",
       "</div>"
      ],
      "text/plain": [
       "   instant    dteday  season  yr  mnth  hr  holiday  weekday  workingday  \\\n",
       "0        1  1/1/2011       1   0     1   0        0        6           0   \n",
       "1        2  1/1/2011       1   0     1   1        0        6           0   \n",
       "2        3  1/1/2011       1   0     1   2        0        6           0   \n",
       "3        4  1/1/2011       1   0     1   3        0        6           0   \n",
       "4        5  1/1/2011       1   0     1   4        0        6           0   \n",
       "\n",
       "   weathersit  temp   atemp   hum  windspeed  cnt  \n",
       "0           1  0.24  0.2879  0.81        0.0   16  \n",
       "1           1  0.22  0.2727  0.80        0.0   40  \n",
       "2           1  0.22  0.2727  0.80        0.0   32  \n",
       "3           1  0.24  0.2879  0.75        0.0   13  \n",
       "4           1  0.24  0.2879  0.75        0.0    1  "
      ]
     },
     "execution_count": 13,
     "metadata": {},
     "output_type": "execute_result"
    }
   ],
   "source": [
    "url = 'https://raw.githubusercontent.com/rashakil-ds/5-Minutes-to-Pandas/main/bike.csv'\n",
    "df = pd.read_csv(url)\n",
    "df.head()"
   ]
  },
  {
   "cell_type": "code",
   "execution_count": 14,
   "id": "845fc3fd",
   "metadata": {},
   "outputs": [
    {
     "data": {
      "text/plain": [
       "(17379, 15)"
      ]
     },
     "execution_count": 14,
     "metadata": {},
     "output_type": "execute_result"
    }
   ],
   "source": [
    "df.shape"
   ]
  },
  {
   "cell_type": "markdown",
   "id": "058d7311",
   "metadata": {},
   "source": [
    "# Reading Data From CSV/Excel"
   ]
  },
  {
   "cell_type": "markdown",
   "id": "51ef979a",
   "metadata": {},
   "source": [
    "1. XLSX (Excel Workbook): This is a binary file format associated with Microsoft Excel. It can store multiple sheets with formatting, formulas, charts, and images.\n",
    "<br>\n",
    "2. CSV (Comma-Separated Values): This is a plain text file where values are separated by commas. It contains only the data without any formatting, formulas, or other elements."
   ]
  },
  {
   "cell_type": "code",
   "execution_count": null,
   "id": "2fda600e",
   "metadata": {},
   "outputs": [],
   "source": [
    "import pandas as pd\n",
    "df = pd.read_excel('data1.xlsx')"
   ]
  },
  {
   "cell_type": "code",
   "execution_count": null,
   "id": "a724c72b",
   "metadata": {},
   "outputs": [],
   "source": [
    "df"
   ]
  },
  {
   "cell_type": "code",
   "execution_count": null,
   "id": "a042d395",
   "metadata": {},
   "outputs": [],
   "source": [
    "import pandas as pd\n",
    "df = pd.read_excel('data1.xlsx', sheet_name='Sheet1')\n",
    "df"
   ]
  },
  {
   "cell_type": "code",
   "execution_count": null,
   "id": "20bf7e77",
   "metadata": {},
   "outputs": [],
   "source": [
    "#csv\n",
    "df = pd.read_csv('data1.csv', sep=';')\n",
    "df"
   ]
  },
  {
   "cell_type": "markdown",
   "id": "272c1d41",
   "metadata": {},
   "source": [
    "# Data in Diffrent Folder"
   ]
  },
  {
   "cell_type": "code",
   "execution_count": null,
   "id": "06612c9a",
   "metadata": {},
   "outputs": [],
   "source": [
    "#csv\n",
    "df = pd.read_csv(\"C:\\\\Local Disk F\\\\aiQuest Intelligence\\\\Data Science and Machine Learning\\\\Batch 18\\\\Class 10\\mall customers.csv\")\n",
    "df"
   ]
  },
  {
   "cell_type": "code",
   "execution_count": null,
   "id": "f6992fb4",
   "metadata": {},
   "outputs": [],
   "source": []
  }
 ],
 "metadata": {
  "kernelspec": {
   "display_name": "Python 3 (ipykernel)",
   "language": "python",
   "name": "python3"
  },
  "language_info": {
   "codemirror_mode": {
    "name": "ipython",
    "version": 3
   },
   "file_extension": ".py",
   "mimetype": "text/x-python",
   "name": "python",
   "nbconvert_exporter": "python",
   "pygments_lexer": "ipython3",
   "version": "3.9.13"
  }
 },
 "nbformat": 4,
 "nbformat_minor": 5
}
