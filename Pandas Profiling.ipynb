{
 "cells": [
  {
   "cell_type": "markdown",
   "id": "b9030a92",
   "metadata": {},
   "source": [
    "# Features of Pandas Profiling\n",
    "\n",
    "1. **Overview of Variables**:\n",
    "   - Provides a detailed summary of each variable in the dataset.\n",
    "   - Includes counts, mean, median, mode, minimum, maximum, standard deviation, and more.\n",
    "   - Visualizes the distribution of numerical and categorical variables.\n",
    "\n",
    "2. **Missing Values Analysis**:\n",
    "   - Identifies missing values and calculates their percentage.\n",
    "   - Visualizes missing value patterns with heatmaps and bar charts.\n",
    "\n",
    "3. **Correlations**:\n",
    "   - Computes and displays correlation coefficients such as Pearson, Spearman, and Kendall.\n",
    "   - Highlights highly correlated features for easier identification of redundant variables.\n",
    "\n",
    "4. **Data Quality Assessment**:\n",
    "   - Detects potential issues like:\n",
    "     - Constant values.\n",
    "     - High cardinality variables (too many unique values in categorical columns).\n",
    "     - Duplicate rows.\n",
    "   - Flags potential data cleaning requirements.\n",
    "\n",
    "5. **Interactive Visualizations**:\n",
    "   - Offers visualizations such as:\n",
    "     - Histograms and KDE plots for numerical distributions.\n",
    "     - Box plots to identify outliers.\n",
    "     - Pie charts for categorical data representation.\n",
    "     - Heatmaps for correlations.\n",
    "\n",
    "6. **Customizable Reports**:\n",
    "   - Generates detailed, interactive reports in HTML or JSON format.\n",
    "   - Easily shared or embedded in data pipelines.\n",
    "\n",
    "7. **Descriptive Warnings**:\n",
    "   - Highlights:\n",
    "     - Columns with zero variance.\n",
    "     - Skewed distributions.\n",
    "     - Sparse data in columns.\n",
    "   - Provides insights on potential preprocessing needs.\n",
    "\n",
    "8. **Explorative Mode**:\n",
    "   - Enables more flexible reporting with additional insights for exploratory data analysis (EDA).\n",
    "\n",
    "9. **Support for Large Datasets**:\n",
    "   - Optimized for handling large datasets with configurations to reduce computation time.\n",
    "\n",
    "10. **Integration with Pandas**:\n",
    "    - Works seamlessly with pandas DataFrames, making it a convenient tool for data scientists and analysts.\n"
   ]
  },
  {
   "cell_type": "code",
   "execution_count": null,
   "id": "648ea78e",
   "metadata": {},
   "outputs": [],
   "source": [
    "import pandas as pd\n",
    "#from pandas_profiling import ProfileReport\n",
    "from ydata_profiling import ProfileReport"
   ]
  },
  {
   "cell_type": "code",
   "execution_count": null,
   "id": "22ab9eba",
   "metadata": {},
   "outputs": [],
   "source": [
    "url = 'https://raw.githubusercontent.com/rashakil-ds/Public-Datasets/refs/heads/main/credit.csv'\n",
    "df = pd.read_csv(url)\n",
    "df.head()"
   ]
  },
  {
   "cell_type": "code",
   "execution_count": null,
   "id": "87a345ee",
   "metadata": {},
   "outputs": [],
   "source": [
    "df.shape"
   ]
  },
  {
   "cell_type": "markdown",
   "id": "931db1f6",
   "metadata": {},
   "source": [
    "# Generate a profiling report"
   ]
  },
  {
   "cell_type": "code",
   "execution_count": null,
   "id": "bd0c9534",
   "metadata": {},
   "outputs": [],
   "source": [
    "profile = ProfileReport(df, title=\"Pandas Profiling Report\", explorative=True)\n",
    "profile"
   ]
  },
  {
   "cell_type": "code",
   "execution_count": null,
   "id": "55ebd331",
   "metadata": {},
   "outputs": [],
   "source": []
  }
 ],
 "metadata": {
  "kernelspec": {
   "display_name": "Python 3 (ipykernel)",
   "language": "python",
   "name": "python3"
  },
  "language_info": {
   "codemirror_mode": {
    "name": "ipython",
    "version": 3
   },
   "file_extension": ".py",
   "mimetype": "text/x-python",
   "name": "python",
   "nbconvert_exporter": "python",
   "pygments_lexer": "ipython3",
   "version": "3.9.13"
  }
 },
 "nbformat": 4,
 "nbformat_minor": 5
}
